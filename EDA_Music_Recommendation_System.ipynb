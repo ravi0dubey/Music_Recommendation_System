{
 "cells": [
  {
   "cell_type": "markdown",
   "id": "a9230728",
   "metadata": {},
   "source": [
    "## 1) Import required libraries"
   ]
  },
  {
   "cell_type": "code",
   "execution_count": 1,
   "id": "aa92b3c6",
   "metadata": {},
   "outputs": [],
   "source": [
    "import pandas as pd\n",
    "import seaborn as sns\n",
    "import numpy as np\n",
    "from statistics import mean\n",
    "import matplotlib.pyplot as plt\n",
    "import warnings\n",
    "from sklearn.preprocessing import PowerTransformer\n",
    "import numpy as np\n",
    "from sklearn.preprocessing import LabelEncoder\n",
    "from sklearn.pipeline import Pipeline\n",
    "from sklearn.utils import resample\n",
    "\n",
    "from sklearn.linear_model import LogisticRegression\n",
    "from sklearn.ensemble import RandomForestClassifier, AdaBoostClassifier, GradientBoostingClassifier\n",
    "from sklearn.neighbors import KNeighborsClassifier\n",
    "from sklearn.tree import DecisionTreeClassifier\n",
    "from sklearn.svm import SVC\n",
    "from sklearn.metrics import accuracy_score, classification_report,ConfusionMatrixDisplay, \\\n",
    "                            precision_score, recall_score, f1_score, roc_auc_score,roc_curve,confusion_matrix\n",
    "\n",
    "\n",
    "from sklearn import metrics \n",
    "from sklearn.model_selection import  train_test_split, RepeatedStratifiedKFold, cross_val_score\n",
    "from sklearn.preprocessing import OneHotEncoder, MinMaxScaler\n",
    "from sklearn.compose import ColumnTransformer\n",
    "from sklearn.impute import SimpleImputer, KNNImputer\n",
    "from xgboost import XGBClassifier\n",
    "from sklearn.preprocessing import StandardScaler, MinMaxScaler,RobustScaler\n",
    "from sklearn.compose import ColumnTransformer\n",
    "from catboost import CatBoostClassifier\n",
    "\n",
    "warnings.filterwarnings(\"ignore\")\n",
    "%matplotlib inline"
   ]
  },
  {
   "cell_type": "code",
   "execution_count": 2,
   "id": "e910a99c",
   "metadata": {},
   "outputs": [],
   "source": [
    "# Load csv file\n",
    "df_count = pd.read_csv('dataset/count_data.csv', na_values=\"na\")\n",
    "df_song = pd.read_csv('dataset/song_data.csv', na_values=\"na\")"
   ]
  },
  {
   "cell_type": "code",
   "execution_count": 3,
   "id": "07a117ba",
   "metadata": {},
   "outputs": [
    {
     "data": {
      "text/html": [
       "<div>\n",
       "<style scoped>\n",
       "    .dataframe tbody tr th:only-of-type {\n",
       "        vertical-align: middle;\n",
       "    }\n",
       "\n",
       "    .dataframe tbody tr th {\n",
       "        vertical-align: top;\n",
       "    }\n",
       "\n",
       "    .dataframe thead th {\n",
       "        text-align: right;\n",
       "    }\n",
       "</style>\n",
       "<table border=\"1\" class=\"dataframe\">\n",
       "  <thead>\n",
       "    <tr style=\"text-align: right;\">\n",
       "      <th></th>\n",
       "      <th>song_id</th>\n",
       "      <th>title</th>\n",
       "      <th>release</th>\n",
       "      <th>artist_name</th>\n",
       "      <th>year</th>\n",
       "    </tr>\n",
       "  </thead>\n",
       "  <tbody>\n",
       "    <tr>\n",
       "      <th>0</th>\n",
       "      <td>SOQMMHC12AB0180CB8</td>\n",
       "      <td>Silent Night</td>\n",
       "      <td>Monster Ballads X-Mas</td>\n",
       "      <td>Faster Pussy cat</td>\n",
       "      <td>2003</td>\n",
       "    </tr>\n",
       "    <tr>\n",
       "      <th>1</th>\n",
       "      <td>SOVFVAK12A8C1350D9</td>\n",
       "      <td>Tanssi vaan</td>\n",
       "      <td>Karkuteillä</td>\n",
       "      <td>Karkkiautomaatti</td>\n",
       "      <td>1995</td>\n",
       "    </tr>\n",
       "    <tr>\n",
       "      <th>2</th>\n",
       "      <td>SOGTUKN12AB017F4F1</td>\n",
       "      <td>No One Could Ever</td>\n",
       "      <td>Butter</td>\n",
       "      <td>Hudson Mohawke</td>\n",
       "      <td>2006</td>\n",
       "    </tr>\n",
       "    <tr>\n",
       "      <th>3</th>\n",
       "      <td>SOBNYVR12A8C13558C</td>\n",
       "      <td>Si Vos Querés</td>\n",
       "      <td>De Culo</td>\n",
       "      <td>Yerba Brava</td>\n",
       "      <td>2003</td>\n",
       "    </tr>\n",
       "    <tr>\n",
       "      <th>4</th>\n",
       "      <td>SOHSBXH12A8C13B0DF</td>\n",
       "      <td>Tangle Of Aspens</td>\n",
       "      <td>Rene Ablaze Presents Winter Sessions</td>\n",
       "      <td>Der Mystic</td>\n",
       "      <td>0</td>\n",
       "    </tr>\n",
       "    <tr>\n",
       "      <th>...</th>\n",
       "      <td>...</td>\n",
       "      <td>...</td>\n",
       "      <td>...</td>\n",
       "      <td>...</td>\n",
       "      <td>...</td>\n",
       "    </tr>\n",
       "    <tr>\n",
       "      <th>999995</th>\n",
       "      <td>SOTXAME12AB018F136</td>\n",
       "      <td>O Samba Da Vida</td>\n",
       "      <td>Pacha V.I.P.</td>\n",
       "      <td>Kiko Navarro</td>\n",
       "      <td>0</td>\n",
       "    </tr>\n",
       "    <tr>\n",
       "      <th>999996</th>\n",
       "      <td>SOXQYIQ12A8C137FBB</td>\n",
       "      <td>Jago Chhadeo</td>\n",
       "      <td>Naale Baba Lassi Pee Gya</td>\n",
       "      <td>Kuldeep Manak</td>\n",
       "      <td>0</td>\n",
       "    </tr>\n",
       "    <tr>\n",
       "      <th>999997</th>\n",
       "      <td>SOHODZI12A8C137BB3</td>\n",
       "      <td>Novemba</td>\n",
       "      <td>Dub_Connected: electronic music</td>\n",
       "      <td>Gabriel Le Mar</td>\n",
       "      <td>0</td>\n",
       "    </tr>\n",
       "    <tr>\n",
       "      <th>999998</th>\n",
       "      <td>SOLXGOR12A81C21EB7</td>\n",
       "      <td>Faraday</td>\n",
       "      <td>The Trance Collection Vol. 2</td>\n",
       "      <td>Elude</td>\n",
       "      <td>0</td>\n",
       "    </tr>\n",
       "    <tr>\n",
       "      <th>999999</th>\n",
       "      <td>SOWXJXQ12AB0189F43</td>\n",
       "      <td>Fernweh feat. Sektion Kuchikäschtli</td>\n",
       "      <td>So Oder So</td>\n",
       "      <td>Texta</td>\n",
       "      <td>2004</td>\n",
       "    </tr>\n",
       "  </tbody>\n",
       "</table>\n",
       "<p>1000000 rows × 5 columns</p>\n",
       "</div>"
      ],
      "text/plain": [
       "                   song_id                                title  \\\n",
       "0       SOQMMHC12AB0180CB8                         Silent Night   \n",
       "1       SOVFVAK12A8C1350D9                          Tanssi vaan   \n",
       "2       SOGTUKN12AB017F4F1                    No One Could Ever   \n",
       "3       SOBNYVR12A8C13558C                        Si Vos Querés   \n",
       "4       SOHSBXH12A8C13B0DF                     Tangle Of Aspens   \n",
       "...                    ...                                  ...   \n",
       "999995  SOTXAME12AB018F136                      O Samba Da Vida   \n",
       "999996  SOXQYIQ12A8C137FBB                         Jago Chhadeo   \n",
       "999997  SOHODZI12A8C137BB3                              Novemba   \n",
       "999998  SOLXGOR12A81C21EB7                              Faraday   \n",
       "999999  SOWXJXQ12AB0189F43  Fernweh feat. Sektion Kuchikäschtli   \n",
       "\n",
       "                                     release       artist_name  year  \n",
       "0                      Monster Ballads X-Mas  Faster Pussy cat  2003  \n",
       "1                                Karkuteillä  Karkkiautomaatti  1995  \n",
       "2                                     Butter    Hudson Mohawke  2006  \n",
       "3                                    De Culo       Yerba Brava  2003  \n",
       "4       Rene Ablaze Presents Winter Sessions        Der Mystic     0  \n",
       "...                                      ...               ...   ...  \n",
       "999995                          Pacha V.I.P.      Kiko Navarro     0  \n",
       "999996              Naale Baba Lassi Pee Gya     Kuldeep Manak     0  \n",
       "999997       Dub_Connected: electronic music    Gabriel Le Mar     0  \n",
       "999998          The Trance Collection Vol. 2             Elude     0  \n",
       "999999                            So Oder So             Texta  2004  \n",
       "\n",
       "[1000000 rows x 5 columns]"
      ]
     },
     "execution_count": 3,
     "metadata": {},
     "output_type": "execute_result"
    }
   ],
   "source": [
    "df_song"
   ]
  },
  {
   "cell_type": "code",
   "execution_count": 4,
   "id": "be73ed87",
   "metadata": {},
   "outputs": [
    {
     "name": "stdout",
     "output_type": "stream",
     "text": [
      "<class 'pandas.core.frame.DataFrame'>\n",
      "RangeIndex: 1000000 entries, 0 to 999999\n",
      "Data columns (total 5 columns):\n",
      " #   Column       Non-Null Count    Dtype \n",
      "---  ------       --------------    ----- \n",
      " 0   song_id      1000000 non-null  object\n",
      " 1   title        999984 non-null   object\n",
      " 2   release      999995 non-null   object\n",
      " 3   artist_name  1000000 non-null  object\n",
      " 4   year         1000000 non-null  int64 \n",
      "dtypes: int64(1), object(4)\n",
      "memory usage: 38.1+ MB\n"
     ]
    }
   ],
   "source": [
    "df_song.info()"
   ]
  },
  {
   "cell_type": "code",
   "execution_count": 5,
   "id": "043470c2",
   "metadata": {},
   "outputs": [
    {
     "data": {
      "text/html": [
       "<div>\n",
       "<style scoped>\n",
       "    .dataframe tbody tr th:only-of-type {\n",
       "        vertical-align: middle;\n",
       "    }\n",
       "\n",
       "    .dataframe tbody tr th {\n",
       "        vertical-align: top;\n",
       "    }\n",
       "\n",
       "    .dataframe thead th {\n",
       "        text-align: right;\n",
       "    }\n",
       "</style>\n",
       "<table border=\"1\" class=\"dataframe\">\n",
       "  <thead>\n",
       "    <tr style=\"text-align: right;\">\n",
       "      <th></th>\n",
       "      <th>Unnamed: 0</th>\n",
       "      <th>user_id</th>\n",
       "      <th>song_id</th>\n",
       "      <th>play_count</th>\n",
       "    </tr>\n",
       "  </thead>\n",
       "  <tbody>\n",
       "    <tr>\n",
       "      <th>0</th>\n",
       "      <td>0</td>\n",
       "      <td>b80344d063b5ccb3212f76538f3d9e43d87dca9e</td>\n",
       "      <td>SOAKIMP12A8C130995</td>\n",
       "      <td>1</td>\n",
       "    </tr>\n",
       "    <tr>\n",
       "      <th>1</th>\n",
       "      <td>1</td>\n",
       "      <td>b80344d063b5ccb3212f76538f3d9e43d87dca9e</td>\n",
       "      <td>SOBBMDR12A8C13253B</td>\n",
       "      <td>2</td>\n",
       "    </tr>\n",
       "    <tr>\n",
       "      <th>2</th>\n",
       "      <td>2</td>\n",
       "      <td>b80344d063b5ccb3212f76538f3d9e43d87dca9e</td>\n",
       "      <td>SOBXHDL12A81C204C0</td>\n",
       "      <td>1</td>\n",
       "    </tr>\n",
       "    <tr>\n",
       "      <th>3</th>\n",
       "      <td>3</td>\n",
       "      <td>b80344d063b5ccb3212f76538f3d9e43d87dca9e</td>\n",
       "      <td>SOBYHAJ12A6701BF1D</td>\n",
       "      <td>1</td>\n",
       "    </tr>\n",
       "    <tr>\n",
       "      <th>4</th>\n",
       "      <td>4</td>\n",
       "      <td>b80344d063b5ccb3212f76538f3d9e43d87dca9e</td>\n",
       "      <td>SODACBL12A8C13C273</td>\n",
       "      <td>1</td>\n",
       "    </tr>\n",
       "    <tr>\n",
       "      <th>...</th>\n",
       "      <td>...</td>\n",
       "      <td>...</td>\n",
       "      <td>...</td>\n",
       "      <td>...</td>\n",
       "    </tr>\n",
       "    <tr>\n",
       "      <th>1999995</th>\n",
       "      <td>1999995</td>\n",
       "      <td>d8bfd4ec88f0f3773a9e022e3c1a0f1d3b7b6a92</td>\n",
       "      <td>SOJEYPO12AAA8C6B0E</td>\n",
       "      <td>2</td>\n",
       "    </tr>\n",
       "    <tr>\n",
       "      <th>1999996</th>\n",
       "      <td>1999996</td>\n",
       "      <td>d8bfd4ec88f0f3773a9e022e3c1a0f1d3b7b6a92</td>\n",
       "      <td>SOJJYDE12AF729FC16</td>\n",
       "      <td>4</td>\n",
       "    </tr>\n",
       "    <tr>\n",
       "      <th>1999997</th>\n",
       "      <td>1999997</td>\n",
       "      <td>d8bfd4ec88f0f3773a9e022e3c1a0f1d3b7b6a92</td>\n",
       "      <td>SOJKQSF12A6D4F5EE9</td>\n",
       "      <td>3</td>\n",
       "    </tr>\n",
       "    <tr>\n",
       "      <th>1999998</th>\n",
       "      <td>1999998</td>\n",
       "      <td>d8bfd4ec88f0f3773a9e022e3c1a0f1d3b7b6a92</td>\n",
       "      <td>SOJUXGA12AC961885C</td>\n",
       "      <td>1</td>\n",
       "    </tr>\n",
       "    <tr>\n",
       "      <th>1999999</th>\n",
       "      <td>1999999</td>\n",
       "      <td>d8bfd4ec88f0f3773a9e022e3c1a0f1d3b7b6a92</td>\n",
       "      <td>SOJYOLS12A8C13C06F</td>\n",
       "      <td>1</td>\n",
       "    </tr>\n",
       "  </tbody>\n",
       "</table>\n",
       "<p>2000000 rows × 4 columns</p>\n",
       "</div>"
      ],
      "text/plain": [
       "         Unnamed: 0                                   user_id  \\\n",
       "0                 0  b80344d063b5ccb3212f76538f3d9e43d87dca9e   \n",
       "1                 1  b80344d063b5ccb3212f76538f3d9e43d87dca9e   \n",
       "2                 2  b80344d063b5ccb3212f76538f3d9e43d87dca9e   \n",
       "3                 3  b80344d063b5ccb3212f76538f3d9e43d87dca9e   \n",
       "4                 4  b80344d063b5ccb3212f76538f3d9e43d87dca9e   \n",
       "...             ...                                       ...   \n",
       "1999995     1999995  d8bfd4ec88f0f3773a9e022e3c1a0f1d3b7b6a92   \n",
       "1999996     1999996  d8bfd4ec88f0f3773a9e022e3c1a0f1d3b7b6a92   \n",
       "1999997     1999997  d8bfd4ec88f0f3773a9e022e3c1a0f1d3b7b6a92   \n",
       "1999998     1999998  d8bfd4ec88f0f3773a9e022e3c1a0f1d3b7b6a92   \n",
       "1999999     1999999  d8bfd4ec88f0f3773a9e022e3c1a0f1d3b7b6a92   \n",
       "\n",
       "                    song_id  play_count  \n",
       "0        SOAKIMP12A8C130995           1  \n",
       "1        SOBBMDR12A8C13253B           2  \n",
       "2        SOBXHDL12A81C204C0           1  \n",
       "3        SOBYHAJ12A6701BF1D           1  \n",
       "4        SODACBL12A8C13C273           1  \n",
       "...                     ...         ...  \n",
       "1999995  SOJEYPO12AAA8C6B0E           2  \n",
       "1999996  SOJJYDE12AF729FC16           4  \n",
       "1999997  SOJKQSF12A6D4F5EE9           3  \n",
       "1999998  SOJUXGA12AC961885C           1  \n",
       "1999999  SOJYOLS12A8C13C06F           1  \n",
       "\n",
       "[2000000 rows x 4 columns]"
      ]
     },
     "execution_count": 5,
     "metadata": {},
     "output_type": "execute_result"
    }
   ],
   "source": [
    "df_count"
   ]
  },
  {
   "cell_type": "code",
   "execution_count": 6,
   "id": "d1b73339",
   "metadata": {},
   "outputs": [
    {
     "name": "stdout",
     "output_type": "stream",
     "text": [
      "<class 'pandas.core.frame.DataFrame'>\n",
      "RangeIndex: 2000000 entries, 0 to 1999999\n",
      "Data columns (total 4 columns):\n",
      " #   Column      Dtype \n",
      "---  ------      ----- \n",
      " 0   Unnamed: 0  int64 \n",
      " 1   user_id     object\n",
      " 2   song_id     object\n",
      " 3   play_count  int64 \n",
      "dtypes: int64(2), object(2)\n",
      "memory usage: 61.0+ MB\n"
     ]
    }
   ],
   "source": [
    "df_count.info()"
   ]
  },
  {
   "cell_type": "code",
   "execution_count": 7,
   "id": "345146dc",
   "metadata": {},
   "outputs": [],
   "source": [
    "# There is no need of first column \"Unnamed: 0\" hence it can be dropped\n",
    "df_count.drop('Unnamed: 0', axis= 1, inplace = True)"
   ]
  },
  {
   "cell_type": "code",
   "execution_count": 8,
   "id": "ae74df97",
   "metadata": {},
   "outputs": [
    {
     "name": "stdout",
     "output_type": "stream",
     "text": [
      "<class 'pandas.core.frame.DataFrame'>\n",
      "RangeIndex: 2000000 entries, 0 to 1999999\n",
      "Data columns (total 3 columns):\n",
      " #   Column      Dtype \n",
      "---  ------      ----- \n",
      " 0   user_id     object\n",
      " 1   song_id     object\n",
      " 2   play_count  int64 \n",
      "dtypes: int64(1), object(2)\n",
      "memory usage: 45.8+ MB\n"
     ]
    }
   ],
   "source": [
    "df_count.info()"
   ]
  },
  {
   "cell_type": "code",
   "execution_count": 9,
   "id": "0c27ddfc",
   "metadata": {},
   "outputs": [
    {
     "data": {
      "text/plain": [
       "user_id       0\n",
       "song_id       0\n",
       "play_count    0\n",
       "dtype: int64"
      ]
     },
     "execution_count": 9,
     "metadata": {},
     "output_type": "execute_result"
    }
   ],
   "source": [
    "# Checking if we have any null values in the df_count dataset\n",
    "df_count.isnull().sum()"
   ]
  },
  {
   "cell_type": "code",
   "execution_count": 10,
   "id": "ac132d72",
   "metadata": {},
   "outputs": [
    {
     "data": {
      "text/plain": [
       "song_id         0\n",
       "title          16\n",
       "release         5\n",
       "artist_name     0\n",
       "year            0\n",
       "dtype: int64"
      ]
     },
     "execution_count": 10,
     "metadata": {},
     "output_type": "execute_result"
    }
   ],
   "source": [
    "# Checking if we have any null values in the df_song dataset\n",
    "df_song.isnull().sum()"
   ]
  },
  {
   "cell_type": "code",
   "execution_count": 11,
   "id": "e3232f01",
   "metadata": {},
   "outputs": [
    {
     "data": {
      "text/plain": [
       "90"
      ]
     },
     "execution_count": 11,
     "metadata": {},
     "output_type": "execute_result"
    }
   ],
   "source": [
    "df_song['year'].nunique()"
   ]
  },
  {
   "cell_type": "code",
   "execution_count": 12,
   "id": "afff20fe",
   "metadata": {},
   "outputs": [
    {
     "data": {
      "text/plain": [
       "array([2003, 1995, 2006,    0, 1993, 2007, 1997, 2005, 1998, 1994, 2009,\n",
       "       1996, 2001, 2004, 2002, 1977, 2008, 1992, 1979, 1988, 2010, 1990,\n",
       "       1981, 2000, 1978, 1991, 1989, 1999, 1975, 1969, 1982, 1966, 1972,\n",
       "       1967, 1984, 1950, 1986, 1970, 1959, 1971, 1980, 1987, 1985, 1963,\n",
       "       1973, 1958, 1961, 1938, 1939, 1983, 1929, 1964, 1948, 1968, 1976,\n",
       "       1965, 1960, 1974, 1945, 1962, 1957, 1956, 1954, 1943, 1952, 1953,\n",
       "       1955, 1951, 1931, 1928, 1937, 1949, 1935, 1941, 1947, 1934, 1940,\n",
       "       1926, 1932, 1922, 1930, 1936, 1942, 1944, 1933, 1946, 1927, 2011,\n",
       "       1925, 1924], dtype=int64)"
      ]
     },
     "execution_count": 12,
     "metadata": {},
     "output_type": "execute_result"
    }
   ],
   "source": [
    "df_song['year'].unique()"
   ]
  },
  {
   "cell_type": "code",
   "execution_count": 13,
   "id": "ab6b8078",
   "metadata": {},
   "outputs": [
    {
     "data": {
      "text/plain": [
       "0       484424\n",
       "2007     39414\n",
       "2006     37546\n",
       "2005     34960\n",
       "2008     34770\n",
       "2009     31051\n",
       "2004     29618\n",
       "2003     27389\n",
       "2002     23472\n",
       "2001     21604\n",
       "2000     19293\n",
       "1999     18262\n",
       "1998     15858\n",
       "1997     15182\n",
       "1996     14135\n",
       "1995     13260\n",
       "1994     12127\n",
       "1993     10529\n",
       "1992      9547\n",
       "2010      9397\n",
       "Name: year, dtype: int64"
      ]
     },
     "execution_count": 13,
     "metadata": {},
     "output_type": "execute_result"
    }
   ],
   "source": [
    "df_song['year'].value_counts().head(20)"
   ]
  },
  {
   "cell_type": "code",
   "execution_count": 14,
   "id": "29e10858",
   "metadata": {},
   "outputs": [
    {
     "data": {
      "text/html": [
       "<div>\n",
       "<style scoped>\n",
       "    .dataframe tbody tr th:only-of-type {\n",
       "        vertical-align: middle;\n",
       "    }\n",
       "\n",
       "    .dataframe tbody tr th {\n",
       "        vertical-align: top;\n",
       "    }\n",
       "\n",
       "    .dataframe thead th {\n",
       "        text-align: right;\n",
       "    }\n",
       "</style>\n",
       "<table border=\"1\" class=\"dataframe\">\n",
       "  <thead>\n",
       "    <tr style=\"text-align: right;\">\n",
       "      <th></th>\n",
       "      <th>song_id</th>\n",
       "      <th>title</th>\n",
       "      <th>release</th>\n",
       "      <th>artist_name</th>\n",
       "      <th>year</th>\n",
       "    </tr>\n",
       "  </thead>\n",
       "  <tbody>\n",
       "    <tr>\n",
       "      <th>4</th>\n",
       "      <td>SOHSBXH12A8C13B0DF</td>\n",
       "      <td>Tangle Of Aspens</td>\n",
       "      <td>Rene Ablaze Presents Winter Sessions</td>\n",
       "      <td>Der Mystic</td>\n",
       "      <td>0</td>\n",
       "    </tr>\n",
       "    <tr>\n",
       "      <th>5</th>\n",
       "      <td>SOZVAPQ12A8C13B63C</td>\n",
       "      <td>Symphony No. 1 G minor \"Sinfonie Serieuse\"/All...</td>\n",
       "      <td>Berwald: Symphonies Nos. 1/2/3/4</td>\n",
       "      <td>David Montgomery</td>\n",
       "      <td>0</td>\n",
       "    </tr>\n",
       "    <tr>\n",
       "      <th>6</th>\n",
       "      <td>SOQVRHI12A6D4FB2D7</td>\n",
       "      <td>We Have Got Love</td>\n",
       "      <td>Strictly The Best Vol. 34</td>\n",
       "      <td>Sasha / Turbulence</td>\n",
       "      <td>0</td>\n",
       "    </tr>\n",
       "    <tr>\n",
       "      <th>8</th>\n",
       "      <td>SOPMIYT12A6D4F851E</td>\n",
       "      <td>Goodbye</td>\n",
       "      <td>Danny Boy</td>\n",
       "      <td>Joseph Locke</td>\n",
       "      <td>0</td>\n",
       "    </tr>\n",
       "    <tr>\n",
       "      <th>9</th>\n",
       "      <td>SOJCFMH12A8C13B0C2</td>\n",
       "      <td>Mama_ mama can't you see ?</td>\n",
       "      <td>March to cadence with the US marines</td>\n",
       "      <td>The Sun Harbor's Chorus-Documentary Recordings</td>\n",
       "      <td>0</td>\n",
       "    </tr>\n",
       "    <tr>\n",
       "      <th>...</th>\n",
       "      <td>...</td>\n",
       "      <td>...</td>\n",
       "      <td>...</td>\n",
       "      <td>...</td>\n",
       "      <td>...</td>\n",
       "    </tr>\n",
       "    <tr>\n",
       "      <th>999994</th>\n",
       "      <td>SOVRJOO12A8C143C7A</td>\n",
       "      <td>Down Fo' The Kick Doe</td>\n",
       "      <td>Messy Marv Presents: Draped Up and Chipped Out...</td>\n",
       "      <td>Killer Mike feat. Gangsta Pill and Nario of Gr...</td>\n",
       "      <td>0</td>\n",
       "    </tr>\n",
       "    <tr>\n",
       "      <th>999995</th>\n",
       "      <td>SOTXAME12AB018F136</td>\n",
       "      <td>O Samba Da Vida</td>\n",
       "      <td>Pacha V.I.P.</td>\n",
       "      <td>Kiko Navarro</td>\n",
       "      <td>0</td>\n",
       "    </tr>\n",
       "    <tr>\n",
       "      <th>999996</th>\n",
       "      <td>SOXQYIQ12A8C137FBB</td>\n",
       "      <td>Jago Chhadeo</td>\n",
       "      <td>Naale Baba Lassi Pee Gya</td>\n",
       "      <td>Kuldeep Manak</td>\n",
       "      <td>0</td>\n",
       "    </tr>\n",
       "    <tr>\n",
       "      <th>999997</th>\n",
       "      <td>SOHODZI12A8C137BB3</td>\n",
       "      <td>Novemba</td>\n",
       "      <td>Dub_Connected: electronic music</td>\n",
       "      <td>Gabriel Le Mar</td>\n",
       "      <td>0</td>\n",
       "    </tr>\n",
       "    <tr>\n",
       "      <th>999998</th>\n",
       "      <td>SOLXGOR12A81C21EB7</td>\n",
       "      <td>Faraday</td>\n",
       "      <td>The Trance Collection Vol. 2</td>\n",
       "      <td>Elude</td>\n",
       "      <td>0</td>\n",
       "    </tr>\n",
       "  </tbody>\n",
       "</table>\n",
       "<p>484424 rows × 5 columns</p>\n",
       "</div>"
      ],
      "text/plain": [
       "                   song_id                                              title  \\\n",
       "4       SOHSBXH12A8C13B0DF                                   Tangle Of Aspens   \n",
       "5       SOZVAPQ12A8C13B63C  Symphony No. 1 G minor \"Sinfonie Serieuse\"/All...   \n",
       "6       SOQVRHI12A6D4FB2D7                                   We Have Got Love   \n",
       "8       SOPMIYT12A6D4F851E                                            Goodbye   \n",
       "9       SOJCFMH12A8C13B0C2                         Mama_ mama can't you see ?   \n",
       "...                    ...                                                ...   \n",
       "999994  SOVRJOO12A8C143C7A                              Down Fo' The Kick Doe   \n",
       "999995  SOTXAME12AB018F136                                    O Samba Da Vida   \n",
       "999996  SOXQYIQ12A8C137FBB                                       Jago Chhadeo   \n",
       "999997  SOHODZI12A8C137BB3                                            Novemba   \n",
       "999998  SOLXGOR12A81C21EB7                                            Faraday   \n",
       "\n",
       "                                                  release  \\\n",
       "4                    Rene Ablaze Presents Winter Sessions   \n",
       "5                        Berwald: Symphonies Nos. 1/2/3/4   \n",
       "6                               Strictly The Best Vol. 34   \n",
       "8                                               Danny Boy   \n",
       "9                    March to cadence with the US marines   \n",
       "...                                                   ...   \n",
       "999994  Messy Marv Presents: Draped Up and Chipped Out...   \n",
       "999995                                       Pacha V.I.P.   \n",
       "999996                           Naale Baba Lassi Pee Gya   \n",
       "999997                    Dub_Connected: electronic music   \n",
       "999998                       The Trance Collection Vol. 2   \n",
       "\n",
       "                                              artist_name  year  \n",
       "4                                              Der Mystic     0  \n",
       "5                                        David Montgomery     0  \n",
       "6                                      Sasha / Turbulence     0  \n",
       "8                                            Joseph Locke     0  \n",
       "9          The Sun Harbor's Chorus-Documentary Recordings     0  \n",
       "...                                                   ...   ...  \n",
       "999994  Killer Mike feat. Gangsta Pill and Nario of Gr...     0  \n",
       "999995                                       Kiko Navarro     0  \n",
       "999996                                      Kuldeep Manak     0  \n",
       "999997                                     Gabriel Le Mar     0  \n",
       "999998                                              Elude     0  \n",
       "\n",
       "[484424 rows x 5 columns]"
      ]
     },
     "execution_count": 14,
     "metadata": {},
     "output_type": "execute_result"
    }
   ],
   "source": [
    "df_song[df_song['year'] == 0]"
   ]
  },
  {
   "cell_type": "markdown",
   "id": "d19bf0c7",
   "metadata": {},
   "source": [
    "# we do see we have 484k records where year of songs is 0\n",
    "we will create the barchart without these records"
   ]
  },
  {
   "cell_type": "code",
   "execution_count": 15,
   "id": "b2ebe103",
   "metadata": {},
   "outputs": [
    {
     "data": {
      "text/plain": [
       "2007    39414\n",
       "2006    37546\n",
       "2005    34960\n",
       "2008    34770\n",
       "2009    31051\n",
       "2004    29618\n",
       "2003    27389\n",
       "2002    23472\n",
       "2001    21604\n",
       "2000    19293\n",
       "1999    18262\n",
       "1998    15858\n",
       "1997    15182\n",
       "1996    14135\n",
       "1995    13260\n",
       "1994    12127\n",
       "1993    10529\n",
       "1992     9547\n",
       "2010     9397\n",
       "Name: year, dtype: int64"
      ]
     },
     "execution_count": 15,
     "metadata": {},
     "output_type": "execute_result"
    }
   ],
   "source": [
    "df_song_year1 = df_song['year'].value_counts()[1:20]\n",
    "df_song_year1"
   ]
  },
  {
   "cell_type": "code",
   "execution_count": 16,
   "id": "214391d9",
   "metadata": {},
   "outputs": [],
   "source": [
    "df_song_year2 = pd.Series(df_song_year1).reset_index()\n",
    "df_song_year2.columns = ['Year', 'Count']"
   ]
  },
  {
   "cell_type": "code",
   "execution_count": 17,
   "id": "d1088680",
   "metadata": {},
   "outputs": [
    {
     "data": {
      "text/html": [
       "<div>\n",
       "<style scoped>\n",
       "    .dataframe tbody tr th:only-of-type {\n",
       "        vertical-align: middle;\n",
       "    }\n",
       "\n",
       "    .dataframe tbody tr th {\n",
       "        vertical-align: top;\n",
       "    }\n",
       "\n",
       "    .dataframe thead th {\n",
       "        text-align: right;\n",
       "    }\n",
       "</style>\n",
       "<table border=\"1\" class=\"dataframe\">\n",
       "  <thead>\n",
       "    <tr style=\"text-align: right;\">\n",
       "      <th></th>\n",
       "      <th>Year</th>\n",
       "      <th>Count</th>\n",
       "    </tr>\n",
       "  </thead>\n",
       "  <tbody>\n",
       "    <tr>\n",
       "      <th>17</th>\n",
       "      <td>1992</td>\n",
       "      <td>9547</td>\n",
       "    </tr>\n",
       "    <tr>\n",
       "      <th>16</th>\n",
       "      <td>1993</td>\n",
       "      <td>10529</td>\n",
       "    </tr>\n",
       "    <tr>\n",
       "      <th>15</th>\n",
       "      <td>1994</td>\n",
       "      <td>12127</td>\n",
       "    </tr>\n",
       "    <tr>\n",
       "      <th>14</th>\n",
       "      <td>1995</td>\n",
       "      <td>13260</td>\n",
       "    </tr>\n",
       "    <tr>\n",
       "      <th>13</th>\n",
       "      <td>1996</td>\n",
       "      <td>14135</td>\n",
       "    </tr>\n",
       "    <tr>\n",
       "      <th>12</th>\n",
       "      <td>1997</td>\n",
       "      <td>15182</td>\n",
       "    </tr>\n",
       "    <tr>\n",
       "      <th>11</th>\n",
       "      <td>1998</td>\n",
       "      <td>15858</td>\n",
       "    </tr>\n",
       "    <tr>\n",
       "      <th>10</th>\n",
       "      <td>1999</td>\n",
       "      <td>18262</td>\n",
       "    </tr>\n",
       "    <tr>\n",
       "      <th>9</th>\n",
       "      <td>2000</td>\n",
       "      <td>19293</td>\n",
       "    </tr>\n",
       "    <tr>\n",
       "      <th>8</th>\n",
       "      <td>2001</td>\n",
       "      <td>21604</td>\n",
       "    </tr>\n",
       "    <tr>\n",
       "      <th>7</th>\n",
       "      <td>2002</td>\n",
       "      <td>23472</td>\n",
       "    </tr>\n",
       "    <tr>\n",
       "      <th>6</th>\n",
       "      <td>2003</td>\n",
       "      <td>27389</td>\n",
       "    </tr>\n",
       "    <tr>\n",
       "      <th>5</th>\n",
       "      <td>2004</td>\n",
       "      <td>29618</td>\n",
       "    </tr>\n",
       "    <tr>\n",
       "      <th>2</th>\n",
       "      <td>2005</td>\n",
       "      <td>34960</td>\n",
       "    </tr>\n",
       "    <tr>\n",
       "      <th>1</th>\n",
       "      <td>2006</td>\n",
       "      <td>37546</td>\n",
       "    </tr>\n",
       "    <tr>\n",
       "      <th>0</th>\n",
       "      <td>2007</td>\n",
       "      <td>39414</td>\n",
       "    </tr>\n",
       "    <tr>\n",
       "      <th>3</th>\n",
       "      <td>2008</td>\n",
       "      <td>34770</td>\n",
       "    </tr>\n",
       "    <tr>\n",
       "      <th>4</th>\n",
       "      <td>2009</td>\n",
       "      <td>31051</td>\n",
       "    </tr>\n",
       "    <tr>\n",
       "      <th>18</th>\n",
       "      <td>2010</td>\n",
       "      <td>9397</td>\n",
       "    </tr>\n",
       "  </tbody>\n",
       "</table>\n",
       "</div>"
      ],
      "text/plain": [
       "    Year  Count\n",
       "17  1992   9547\n",
       "16  1993  10529\n",
       "15  1994  12127\n",
       "14  1995  13260\n",
       "13  1996  14135\n",
       "12  1997  15182\n",
       "11  1998  15858\n",
       "10  1999  18262\n",
       "9   2000  19293\n",
       "8   2001  21604\n",
       "7   2002  23472\n",
       "6   2003  27389\n",
       "5   2004  29618\n",
       "2   2005  34960\n",
       "1   2006  37546\n",
       "0   2007  39414\n",
       "3   2008  34770\n",
       "4   2009  31051\n",
       "18  2010   9397"
      ]
     },
     "execution_count": 17,
     "metadata": {},
     "output_type": "execute_result"
    }
   ],
   "source": [
    "df_song_year2.sort_values(by = \"Year\")"
   ]
  },
  {
   "cell_type": "code",
   "execution_count": 18,
   "id": "435a6b69",
   "metadata": {},
   "outputs": [
    {
     "data": {
      "image/png": "[encoded data removed]",
      "text/plain": [
       "<Figure size 1800x1600 with 1 Axes>"
      ]
     },
     "metadata": {},
     "output_type": "display_data"
    }
   ],
   "source": [
    "# Creating the bar plot\n",
    "plt.figure(figsize=(18, 16))\n",
    "plt.title('Distribution of Count_of_songs by Year')\n",
    "plt.xlabel('Year_of_release')\n",
    "plt.ylabel('Song_Counts')\n",
    "plt.xticks(rotation=0)\n",
    "\n",
    "plt.xticks(df_song_year2['Year'])\n",
    "\n",
    "plt.grid(axis='y', linestyle='--', alpha=1.0)\n",
    "plt.bar(df_song_year2['Year'].astype(int), df_song_year2['Count'], color='skyblue')\n",
    "plt.show()\n"
   ]
  },
  {
   "cell_type": "code",
   "execution_count": 19,
   "id": "c1ed4dbf",
   "metadata": {},
   "outputs": [
    {
     "data": {
      "text/html": [
       "<div>\n",
       "<style scoped>\n",
       "    .dataframe tbody tr th:only-of-type {\n",
       "        vertical-align: middle;\n",
       "    }\n",
       "\n",
       "    .dataframe tbody tr th {\n",
       "        vertical-align: top;\n",
       "    }\n",
       "\n",
       "    .dataframe thead th {\n",
       "        text-align: right;\n",
       "    }\n",
       "</style>\n",
       "<table border=\"1\" class=\"dataframe\">\n",
       "  <thead>\n",
       "    <tr style=\"text-align: right;\">\n",
       "      <th></th>\n",
       "      <th>song_id</th>\n",
       "      <th>title</th>\n",
       "      <th>release</th>\n",
       "      <th>artist_name</th>\n",
       "      <th>year</th>\n",
       "    </tr>\n",
       "  </thead>\n",
       "  <tbody>\n",
       "    <tr>\n",
       "      <th>18309</th>\n",
       "      <td>SOPFBUZ12AF729C896</td>\n",
       "      <td>Spitting Games</td>\n",
       "      <td>Final Straw</td>\n",
       "      <td>Snow Patrol</td>\n",
       "      <td>2003</td>\n",
       "    </tr>\n",
       "    <tr>\n",
       "      <th>32760</th>\n",
       "      <td>SOJHKXX12A8C139798</td>\n",
       "      <td>A Crow Left Of The Murder</td>\n",
       "      <td>Live in Malaysia 2004</td>\n",
       "      <td>Incubus</td>\n",
       "      <td>2004</td>\n",
       "    </tr>\n",
       "    <tr>\n",
       "      <th>33033</th>\n",
       "      <td>SOLTAEJ12A8C13F793</td>\n",
       "      <td>What If I Do?</td>\n",
       "      <td>In Your Honor</td>\n",
       "      <td>Foo Fighters</td>\n",
       "      <td>2005</td>\n",
       "    </tr>\n",
       "    <tr>\n",
       "      <th>49718</th>\n",
       "      <td>SONEJDQ12A6D4FA71C</td>\n",
       "      <td>Starfighter Pilot</td>\n",
       "      <td>Songs For Polarbears</td>\n",
       "      <td>Snow Patrol</td>\n",
       "      <td>1998</td>\n",
       "    </tr>\n",
       "    <tr>\n",
       "      <th>54218</th>\n",
       "      <td>SONVJUL12A6701FB7A</td>\n",
       "      <td>The Damage In Your Heart</td>\n",
       "      <td>Make Believe</td>\n",
       "      <td>Weezer</td>\n",
       "      <td>2005</td>\n",
       "    </tr>\n",
       "    <tr>\n",
       "      <th>...</th>\n",
       "      <td>...</td>\n",
       "      <td>...</td>\n",
       "      <td>...</td>\n",
       "      <td>...</td>\n",
       "      <td>...</td>\n",
       "    </tr>\n",
       "    <tr>\n",
       "      <th>997476</th>\n",
       "      <td>SOCGXXL12B0B808865</td>\n",
       "      <td>Yesterdays</td>\n",
       "      <td>Greatest Hits</td>\n",
       "      <td>Guns N' Roses</td>\n",
       "      <td>1991</td>\n",
       "    </tr>\n",
       "    <tr>\n",
       "      <th>998785</th>\n",
       "      <td>SOEUIVS12A8C1400E3</td>\n",
       "      <td>Someone Put Your Hand Out</td>\n",
       "      <td>King Of Pop</td>\n",
       "      <td>Michael Jackson</td>\n",
       "      <td>1992</td>\n",
       "    </tr>\n",
       "    <tr>\n",
       "      <th>999365</th>\n",
       "      <td>SORANLE12A6310DBC8</td>\n",
       "      <td>Long Way To Go</td>\n",
       "      <td>Love Angel Music Baby</td>\n",
       "      <td>Gwen Stefani / Andre 3000</td>\n",
       "      <td>0</td>\n",
       "    </tr>\n",
       "    <tr>\n",
       "      <th>999643</th>\n",
       "      <td>SOAPUFN12AB017FF03</td>\n",
       "      <td>Suggestions</td>\n",
       "      <td>System Of A Down (Bonus Pack)</td>\n",
       "      <td>System of a Down</td>\n",
       "      <td>1998</td>\n",
       "    </tr>\n",
       "    <tr>\n",
       "      <th>999740</th>\n",
       "      <td>SODNVTM12A6D4FA448</td>\n",
       "      <td>Ruled By Secrecy</td>\n",
       "      <td>Absolution</td>\n",
       "      <td>Muse</td>\n",
       "      <td>0</td>\n",
       "    </tr>\n",
       "  </tbody>\n",
       "</table>\n",
       "<p>944 rows × 5 columns</p>\n",
       "</div>"
      ],
      "text/plain": [
       "                   song_id                      title  \\\n",
       "18309   SOPFBUZ12AF729C896             Spitting Games   \n",
       "32760   SOJHKXX12A8C139798  A Crow Left Of The Murder   \n",
       "33033   SOLTAEJ12A8C13F793              What If I Do?   \n",
       "49718   SONEJDQ12A6D4FA71C          Starfighter Pilot   \n",
       "54218   SONVJUL12A6701FB7A   The Damage In Your Heart   \n",
       "...                    ...                        ...   \n",
       "997476  SOCGXXL12B0B808865                 Yesterdays   \n",
       "998785  SOEUIVS12A8C1400E3  Someone Put Your Hand Out   \n",
       "999365  SORANLE12A6310DBC8             Long Way To Go   \n",
       "999643  SOAPUFN12AB017FF03                Suggestions   \n",
       "999740  SODNVTM12A6D4FA448           Ruled By Secrecy   \n",
       "\n",
       "                              release                artist_name  year  \n",
       "18309                     Final Straw                Snow Patrol  2003  \n",
       "32760           Live in Malaysia 2004                    Incubus  2004  \n",
       "33033                   In Your Honor               Foo Fighters  2005  \n",
       "49718            Songs For Polarbears                Snow Patrol  1998  \n",
       "54218                    Make Believe                     Weezer  2005  \n",
       "...                               ...                        ...   ...  \n",
       "997476                  Greatest Hits              Guns N' Roses  1991  \n",
       "998785                    King Of Pop            Michael Jackson  1992  \n",
       "999365          Love Angel Music Baby  Gwen Stefani / Andre 3000     0  \n",
       "999643  System Of A Down (Bonus Pack)           System of a Down  1998  \n",
       "999740                     Absolution                       Muse     0  \n",
       "\n",
       "[944 rows x 5 columns]"
      ]
     },
     "execution_count": 19,
     "metadata": {},
     "output_type": "execute_result"
    }
   ],
   "source": [
    "df_song[df_song['song_id'].duplicated()]"
   ]
  },
  {
   "cell_type": "code",
   "execution_count": 28,
   "id": "39ba7da2",
   "metadata": {},
   "outputs": [
    {
     "data": {
      "text/plain": [
       "944"
      ]
     },
     "execution_count": 28,
     "metadata": {},
     "output_type": "execute_result"
    }
   ],
   "source": [
    "df_song['song_id'].duplicated().sum()"
   ]
  },
  {
   "cell_type": "code",
   "execution_count": 27,
   "id": "c34d2b46",
   "metadata": {},
   "outputs": [
    {
     "data": {
      "text/plain": [
       "297572"
      ]
     },
     "execution_count": 27,
     "metadata": {},
     "output_type": "execute_result"
    }
   ],
   "source": [
    "df_song['title'].duplicated().sum()"
   ]
  },
  {
   "cell_type": "code",
   "execution_count": 29,
   "id": "0c7e7e78",
   "metadata": {},
   "outputs": [
    {
     "data": {
      "text/plain": [
       "850711"
      ]
     },
     "execution_count": 29,
     "metadata": {},
     "output_type": "execute_result"
    }
   ],
   "source": [
    "df_song['release'].duplicated().sum()"
   ]
  },
  {
   "cell_type": "code",
   "execution_count": 30,
   "id": "97d4837b",
   "metadata": {},
   "outputs": [
    {
     "data": {
      "text/plain": [
       "498"
      ]
     },
     "execution_count": 30,
     "metadata": {},
     "output_type": "execute_result"
    }
   ],
   "source": [
    "df_song.duplicated().sum()"
   ]
  },
  {
   "cell_type": "code",
   "execution_count": null,
   "id": "134e21fe",
   "metadata": {},
   "outputs": [],
   "source": [
    "df_song[df_song['song_id']== 'SOPFBUZ12AF729C896']"
   ]
  },
  {
   "cell_type": "code",
   "execution_count": null,
   "id": "b56da0da",
   "metadata": {},
   "outputs": [],
   "source": [
    "df_song.drop_duplicates(subset='song_id', keep='first', inplace=True)"
   ]
  },
  {
   "cell_type": "code",
   "execution_count": null,
   "id": "44dfa143",
   "metadata": {},
   "outputs": [],
   "source": [
    "df_song[df_song['song_id'].duplicated()]"
   ]
  }
 ],
 "metadata": {
  "kernelspec": {
   "display_name": "Python 3 (ipykernel)",
   "language": "python",
   "name": "python3"
  },
  "language_info": {
   "codemirror_mode": {
    "name": "ipython",
    "version": 3
   },
   "file_extension": ".py",
   "mimetype": "text/x-python",
   "name": "python",
   "nbconvert_exporter": "python",
   "pygments_lexer": "ipython3",
   "version": "3.9.7"
  }
 },
 "nbformat": 4,
 "nbformat_minor": 5
}
